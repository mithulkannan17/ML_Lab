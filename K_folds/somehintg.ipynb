{
 "cells": [
  {
   "cell_type": "code",
   "execution_count": 1,
   "id": "90a92e60",
   "metadata": {},
   "outputs": [
    {
     "name": "stdout",
     "output_type": "stream",
     "text": [
      "Accuracy for fold 1: 0.69\n",
      "Accuracy for fold 2: 0.71\n",
      "Accuracy for fold 3: 0.69\n",
      "Accuracy for fold 4: 0.69\n",
      "Accuracy for fold 5: 0.67\n",
      "\n",
      "Average Accuracy: 0.69\n"
     ]
    }
   ],
   "source": [
    "import pandas as pd\n",
    "from sklearn.model_selection import KFold\n",
    "from sklearn.ensemble import RandomForestClassifier\n",
    "from sklearn.metrics import accuracy_score\n",
    "import numpy as np\n",
    "\n",
    "# Load dataset from UCI repository\n",
    "url = \"https://archive.ics.uci.edu/ml/machine-learning-databases/wine-quality/winequality-white.csv\"\n",
    "df = pd.read_csv(url, sep=';')\n",
    "\n",
    "# Separate features and target\n",
    "X = df.drop('quality', axis=1).values\n",
    "y = df['quality'].values\n",
    "\n",
    "# Define k-Fold cross-validation (k=5)\n",
    "kf = KFold(n_splits=5, shuffle=True, random_state=42)\n",
    "\n",
    "accuracies = []\n",
    "\n",
    "for train_index, test_index in kf.split(X):\n",
    "    # Split into train and test\n",
    "    X_train, X_test = X[train_index], X[test_index]\n",
    "    y_train, y_test = y[train_index], y[test_index]\n",
    "\n",
    "    # Train model\n",
    "    model = RandomForestClassifier(random_state=42)\n",
    "    model.fit(X_train, y_train)\n",
    "\n",
    "    # Test model\n",
    "    y_pred = model.predict(X_test)\n",
    "\n",
    "    # Store accuracy for this fold\n",
    "    accuracies.append(accuracy_score(y_test, y_pred))\n",
    "\n",
    "# Print accuracies for all folds\n",
    "for i, acc in enumerate(accuracies, 1):\n",
    "    print(f\"Accuracy for fold {i}: {acc:.2f}\")\n",
    "\n",
    "# Print average accuracy\n",
    "print(f\"\\nAverage Accuracy: {np.mean(accuracies):.2f}\")\n"
   ]
  },
  {
   "cell_type": "code",
   "execution_count": null,
   "id": "08ecd15c",
   "metadata": {},
   "outputs": [],
   "source": []
  }
 ],
 "metadata": {
  "kernelspec": {
   "display_name": "Python 3",
   "language": "python",
   "name": "python3"
  },
  "language_info": {
   "codemirror_mode": {
    "name": "ipython",
    "version": 3
   },
   "file_extension": ".py",
   "mimetype": "text/x-python",
   "name": "python",
   "nbconvert_exporter": "python",
   "pygments_lexer": "ipython3",
   "version": "3.12.1"
  }
 },
 "nbformat": 4,
 "nbformat_minor": 5
}
